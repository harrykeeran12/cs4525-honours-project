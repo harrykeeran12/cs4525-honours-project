{
 "cells": [
  {
   "cell_type": "markdown",
   "metadata": {},
   "source": [
    "# Honours Project Notebook.\n",
    "\n",
    "This notebook contains the code for my honours project. "
   ]
  },
  {
   "cell_type": "markdown",
   "metadata": {},
   "source": [
    "To run the application, `ollama` must be installed on the system. The `ollama` daemon must be run in the background using `ollama serve`. "
   ]
  },
  {
   "cell_type": "code",
   "execution_count": 55,
   "metadata": {},
   "outputs": [
    {
     "name": "stderr",
     "output_type": "stream",
     "text": [
      "[nltk_data] Downloading package punkt_tab to\n",
      "[nltk_data]     /Users/harryk/nltk_data...\n",
      "[nltk_data]   Package punkt_tab is already up-to-date!\n"
     ]
    },
    {
     "data": {
      "text/plain": [
       "True"
      ]
     },
     "execution_count": 55,
     "metadata": {},
     "output_type": "execute_result"
    }
   ],
   "source": [
    "# Dependencies:\n",
    "import ollama\n",
    "import pandas as pd\n",
    "import nltk\n",
    "import re\n",
    "nltk.download('punkt_tab')"
   ]
  },
  {
   "cell_type": "code",
   "execution_count": 56,
   "metadata": {},
   "outputs": [
    {
     "name": "stdout",
     "output_type": "stream",
     "text": [
      "0 : 2 errors.\n",
      "1 : 4 errors.\n",
      "2 : 4 errors.\n",
      "3 : 2 errors.\n",
      "4 : 2 errors.\n",
      "5 : 7 errors.\n",
      "6 : 4 errors.\n",
      "7 : 1 errors.\n",
      "8 : 2 errors.\n",
      "9 : 2 errors.\n",
      "10 : 1 errors.\n",
      "11 : 4 errors.\n",
      "12 : 6 errors.\n",
      "13 : 9 errors.\n",
      "14 : 5 errors.\n",
      "15 : 1 errors.\n",
      "16 : 2 errors.\n",
      "17 : 1 errors.\n",
      "18 : 3 errors.\n",
      "19 : 5 errors.\n",
      "20 : 2 errors.\n",
      "21 : 1 errors.\n",
      "22 : 2 errors.\n",
      "23 : 1 errors.\n",
      "24 : 1 errors.\n",
      "25 : 1 errors.\n"
     ]
    }
   ],
   "source": [
    "MODELNAME = \"deepseek-r1:1.5b\"\n",
    "\n",
    "SYSTEM = \"\"\"\n",
    "You help correct radiology reports. \n",
    "\"\"\"\n",
    "\n",
    "INCONSISTENCIES = \"\"\"Only point out inconsistencies in the report. Use the template below.\n",
    "\\n\\n \"\"\"\n",
    "\n",
    "INCONSISTENCY_TEMPLATE = (\n",
    "    \"\"\"\\n Inconsistency: { } \\n This does not make sense with this line: { }\"\"\"\n",
    ")\n",
    "\n",
    "dataframe = pd.read_csv(\n",
    "    \"datasets/Clinical Info, Removed Correction, Issue - Sanitied_Text & Error Type Only.csv\"\n",
    ")\n",
    "\n",
    "removedCorrection = dataframe[\"Removed Correction\"]\n",
    "\n",
    "correctedData = dataframe[\"Re-dictated\"]\n",
    "\n",
    "errors = dataframe[\"Type of Error\"]\n",
    "\n",
    "\n",
    "for i in range(len(removedCorrection)):\n",
    "    # print(removedCorrection[i])\n",
    "    # print(\"\\n\\n\")\n",
    "    if removedCorrection[i] == correctedData[i]:\n",
    "        # print(i)\n",
    "        # print(removedCorrection[i])\n",
    "        raise ValueError(\n",
    "            f\"Correction not removed properly in {i} : \\n{removedCorrection[i]}\"\n",
    "        )\n",
    "\n",
    "for i in range(len(errors)):\n",
    "    errorList = errors[i].split(\";\")\n",
    "    errorNumber = len(errorList)\n",
    "    print(f\"{i} : {errorNumber} errors.\")\n",
    "# display(errors)"
   ]
  },
  {
   "cell_type": "code",
   "execution_count": 58,
   "metadata": {},
   "outputs": [
    {
     "name": "stdout",
     "output_type": "stream",
     "text": [
      "Differences : \n",
      "+++ \n",
      "+70-year-old male (female). Fall  4 days ago with trauma to the left side of the chest/upper limb. New Hb drop 123>> 86.  Significant tenderness in the left chest wall and left iliac fossa. History of diverticulosis, no PR bleeding. Confirmed haematoma in the left arm. To check for source of bleeding in thorax/abdomen\n",
      "+No acute injury to bony cranium (pelvis).  Degenerative changes in lumbar spine and sacroiliac joints.  No suspicious bony lesion.\n"
     ]
    }
   ],
   "source": [
    "# Print differences:\n",
    "from difflib import unified_diff\n",
    "\n",
    "CURRENT_INDEX = 3\n",
    "\n",
    "diff = unified_diff(\n",
    "    removedCorrection[CURRENT_INDEX].splitlines(), correctedData[CURRENT_INDEX].splitlines(), lineterm=\"\"\n",
    ")\n",
    "\n",
    "print(\"Differences : \")\n",
    "for i in diff:\n",
    "  if i.startswith(\"+\"):\n",
    "    print(i)\n",
    "# print(\"\\n\".join(list(diff)))"
   ]
  },
  {
   "cell_type": "code",
   "execution_count": 60,
   "metadata": {},
   "outputs": [
    {
     "name": "stdout",
     "output_type": "stream",
     "text": [
      "\n",
      "Thinking : [\"\\nOkay, so I need to help correct this radiology report. The user mentioned an inconsistency and provided a template for finding them. Let me see what the report says.\\n\\nFirst, looking through the clinical information provided. It's about a 70-year-old male who fell four days ago with trauma to his left chest/upper limb. That seems straightforward. Then there are some blood tests: New Hb drop is 123>>86. Wait, that doesn't make sense. Hgb should be the hemoglobin level, not a rate. Maybe it's supposed to be 123<86? But that would mean Hgb increased, which could indicate an infection or something else.\\n\\nNext, there are findings in the chest: no acute injury to bony thorax or thoracic spine, degenerative changes, etc. That seems consistent. In the abdomen/pelvis, it's a small to moderate volume of hemoperitoneum around spleen and subphrenic space. I'm not entirely sure what that refers to, but maybe it's related to bleeding.\\n\\nIn the conclusion, it says there was no active extravasation on the venous phase examination. That would mean no new blood clots or flocs, which is good for safety. But wait, looking back at the blood test, Hgb is 123>>86, which seems inverted. That's probably a typo and should be 123<86.\\n\\nAlso, in the conclusion, it says there was no other focal abnormality seen in unprepared large and small bowel loops. But from the clinical information, it only mentions unprepared large bowel loop (BL) and no other abnormalities. The conclusion seems to cover a lot of points but might be missing some specific details or inconsistencies.\\n\\nPutting this together, the inconsistency is with the Hgb level being inverted. That's a clear typo that needs correction.\\n\"]\n",
      "\n",
      "\n",
      "The radiology report contains an inconsistency in the hemoglobin test result. Instead of \"123>>86,\" it should be \"123<86,\" indicating a decrease in hemoglobin levels, which could suggest infection or another condition.\n",
      "\n",
      "**Inconsistency:**\n",
      "- **Clinical Information Provided:** New Hb drop 123>>86.\n",
      "- **Line Identified as Inconsistent:** The Hgb level is inverted (123>>86 instead of 123<86).\n",
      "\n",
      "This typo needs correction to ensure the hemoglobin test result accurately reflects the patient's condition.\n"
     ]
    }
   ],
   "source": [
    "tokenisedSentence = nltk.sent_tokenize(removedCorrection[CURRENT_INDEX])\n",
    "tokenisedSentence = [sentence for sentence in tokenisedSentence if len(sentence) > 1]\n",
    "\n",
    "print()\n",
    "\n",
    "PROMPT = f\"\"\"\\n\n",
    "  Find inconsistencies with this report: \\n {\"\\n\".join(tokenisedSentence)}\n",
    "\"\"\"\n",
    "\n",
    "# print(PROMPT)\n",
    "try:\n",
    "    responses: str = ollama.generate(\n",
    "        model=MODELNAME,\n",
    "        system=SYSTEM + INCONSISTENCY_TEMPLATE,\n",
    "        prompt=INCONSISTENCIES + \"\\n\\n\"+ PROMPT + \"\\n\\n\"+INCONSISTENCY_TEMPLATE,\n",
    "        options={\"temperature\": 0.5},\n",
    "    )[\"response\"]\n",
    "    # Generates a response from the AI.\n",
    "    # display(responses)\n",
    "    regex = r\"<think>(.*?)</think>\"\n",
    "    # Remove the thinking portion of the response.\n",
    "    thinking = re.findall(pattern=regex, string=responses, flags=re.S | re.M)\n",
    "    print(f\"Thinking : {thinking}\")\n",
    "    responses = re.sub(regex, \"\", responses, flags=re.S | re.M)\n",
    "    print(responses)\n",
    "except ConnectionError as ce:\n",
    "    print(ce)\n",
    "    print(\"You can connect to Ollama using ollama serve.\")\n"
   ]
  }
 ],
 "metadata": {
  "kernelspec": {
   "display_name": "hons",
   "language": "python",
   "name": "python3"
  },
  "language_info": {
   "codemirror_mode": {
    "name": "ipython",
    "version": 3
   },
   "file_extension": ".py",
   "mimetype": "text/x-python",
   "name": "python",
   "nbconvert_exporter": "python",
   "pygments_lexer": "ipython3",
   "version": "3.12.8"
  }
 },
 "nbformat": 4,
 "nbformat_minor": 2
}
