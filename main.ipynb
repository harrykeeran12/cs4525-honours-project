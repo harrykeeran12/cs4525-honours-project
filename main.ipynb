{
 "cells": [
  {
   "cell_type": "markdown",
   "metadata": {},
   "source": [
    "# Honours Project Notebook.\n",
    "\n",
    "This notebook contains the code for my honours project. "
   ]
  },
  {
   "cell_type": "markdown",
   "metadata": {},
   "source": [
    "To run the application, `ollama` must be installed on the system. The `ollama` daemon must be run in the background using `ollama serve`. "
   ]
  },
  {
   "cell_type": "code",
   "execution_count": 10,
   "metadata": {},
   "outputs": [],
   "source": [
    "# Dependencies:\n",
    "import ollama\n",
    "import pandas as pd\n",
    "from pprint import pprint"
   ]
  },
  {
   "cell_type": "code",
   "execution_count": null,
   "metadata": {},
   "outputs": [],
   "source": [
    "MODELSUSED = [\"mistral:latest\", \"falcon3:latest\", \"qwen2.5:latest\"]\n",
    "\n",
    "modelNames = [model.get(\"model\") for model in ollama.list().models]\n",
    "\n",
    "# Get list of models names on the system.\n",
    "\n",
    "for i in MODELSUSED:\n",
    "    if i not in modelNames:\n",
    "        raise Exception(f\"Model {i} not on system.\")\n",
    "\n",
    "\n",
    "SYSTEM = \"\"\"You help correct radiology report errors. These include transcription errors, internal inconsistencies, insertion statements and translation errors. For each mistake, show the incorrect words and explain what the problem is.\"\"\"\n",
    "\n",
    "\n",
    "EXAMPLE = \"\"\"\n",
    "Report: \n",
    "Clinical Information Provided:\n",
    "50-year-old male. fall from 7feet high when ladder gave way. Landed on back. c/o lpower rib and back pain. o/e tender BL lower limbs and flank, guarding. pneumothorax. intra-abdominal injury\n",
    ".\n",
    "Technique:\n",
    "CT chest/abdomen/pelvis with dual arterial portal venous phase enhancement.\n",
    ".\n",
    "Findings:\n",
    "Chest:\n",
    "pneumothorax, haemothorax, or pulmonary contusion.\n",
    "Old left fourth rib fracture.  No acute bony injury to sternum or thoracic spine.  Wide patent bony spinal canal.\n",
    ".\n",
    "Abdomen/pelvis:\n",
    "No intra-abdominal/pelvic free gas or fluid.\n",
    "No significant abnormality seen in solid upper abdominal organs.  Normal appearance of partially filled urinary bladder.\n",
    "Colonic diverticulosis with no active diverticulitis.  Remainder of unprepared large and small bowel loops are within normal limits.\n",
    "No acute bony injury.  Degenerative changes in thoracolumbar spine and sacroiliac joints. Wide patent bony spinal canal.\n",
    ".\n",
    "Vascular:\n",
    "Normal appearance of thoracic aorta with conventional configuration of aortic arch.\n",
    "Normal appearance of abdominal aorta and its major branches.  Normal opacification of iliac vessels and visualised proximal femoral vessels.\n",
    ".\n",
    "Conclusion:\n",
    "No pneumothorax.  No intra-abdominal traumatic injury.\n",
    "\n",
    "Correction: Omission as no pneumothorax stated in the conclusion but findings say pneumothorax.\n",
    "The radiology report will be below.\n",
    "\"\"\"\n",
    "dataframe = pd.read_csv(\"datasets/testing_data.csv\")\n",
    "\n",
    "removedCorrection = dataframe[\"Removed Correction\"]\n",
    "\n",
    "correctedData = dataframe[\"Re-dictated\"]\n",
    "\n",
    "errors = dataframe[\"Type of Error\"]\n",
    "# Sanity check.\n",
    "for i in range(len(removedCorrection)):\n",
    "    if removedCorrection[i] == correctedData[i]:\n",
    "        raise ValueError(\n",
    "            f\"Correction not removed properly in {i} : \\n{removedCorrection[i]}\"\n",
    "        )\n",
    "\n",
    "for i in range(len(errors)):\n",
    "    errorList = errors[i].split(\";\")\n",
    "    errorNumber = len(errorList)\n",
    "    # print(f\"{i} : {errorNumber} errors.\")\n",
    "# display(errors)"
   ]
  },
  {
   "cell_type": "code",
   "execution_count": null,
   "metadata": {},
   "outputs": [],
   "source": [
    "# Feed each report into the models.\n",
    "temp = removedCorrection.head(1)\n",
    "reportDict: dict[str, list[str]] = {\n",
    "    \"Original report\": temp,\n",
    "    \"mistral:latest\": [],\n",
    "    \"falcon3:latest\": [],\n",
    "    \"qwen2.5:latest\": [],\n",
    "}\n",
    "\n",
    "for report in temp:\n",
    "    for name in MODELSUSED:\n",
    "        generated = ollama.generate(\n",
    "            name, prompt=SYSTEM + report, options={\"temperature\": 0}\n",
    "        )\n",
    "        reportDict[name].append(generated[\"response\"])\n",
    "\n",
    "# pprint(reportDict)"
   ]
  },
  {
   "cell_type": "code",
   "execution_count": null,
   "metadata": {},
   "outputs": [
    {
     "data": {
      "application/vnd.microsoft.datawrangler.viewer.v0+json": {
       "columns": [
        {
         "name": "index",
         "rawType": "int64",
         "type": "integer"
        },
        {
         "name": "Original report",
         "rawType": "object",
         "type": "string"
        },
        {
         "name": "mistral:latest",
         "rawType": "object",
         "type": "string"
        },
        {
         "name": "falcon3:latest",
         "rawType": "object",
         "type": "string"
        },
        {
         "name": "qwen2.5:latest",
         "rawType": "object",
         "type": "string"
        }
       ],
       "conversionMethod": "pd.DataFrame",
       "ref": "91423bf8-2566-4035-a613-58610441a0ce",
       "rows": [
        [
         "0",
         "Clinical Information Provided:\n50-year-old female. Total hysterectomy yesterday. Intermittent PV bleeding. New hypotension, sweating, clammy.  ?  active haemorrhage\n.\nTechnique:\nCT mesenteric angiogram:  unenhanced, arterial, and venous.\n.\nFindings:\nComparison is made with previous examination.\n.\nVascular:\nNo haematoma with active contrast extravasation from distal left ovarian artery.\nNo other site of contrast extravasation identified.  Normal opacification of the abdominal aorta and its major branches.\n.\nExtravascular:\nPelvic haematoma measures 11 x 16 x 13 cm, with scattered low density fluid filled areas.  Active contrast extravasation into haematoma from distal left ovarian artery as described.\nScattered pockets of moderate density fluid in the subphrenic spaces and intraperitoneally in keeping with haemoperitoneum.\nScattered gas loculations in keeping with residual postoperative changes.\nPersistent intrahepatic and extrahepatic biliary dilatation with biliary stents. Pneumobilia.  No focal abnormality seen in solid upper abdominal organs. Empty urinary bladder with catheter in situ.\nSigmoid diverticulosis with no active diverticulitis.  Remainder of unprepared large small bowel loops are within normal limits.\n.\nDependent changes in lung bases.  Degenerative changes in thoracolumbar spine and sacroiliac joints.\n.\nConclusion:\nExpanding pelvic haematoma with active haemorrhage at time of examination.  Likely from distal right ovarian artery. \nUrgent discussion with surgical team and/or interventional radiology would be of benefit.",
         "1. Incorrect Words: \"active haemorrhage at time of examination\"\n   Problem: The phrase \"at time of examination\" is redundant because the examination is being performed at the time in question. A more accurate statement would be \"Expanding pelvic haematoma with active hemorrhage.\"\n\n2. Incorrect Words: \"Likely from distal right ovarian artery.\"\n   Problem: The patient's total hysterectomy includes the removal of both ovaries, so there is no right ovarian artery in this case. A more accurate statement would be \"Likely from the distal left ovarian artery remnant.\" (Assuming that the left ovarian artery was not removed during hysterectomy and is the source of bleeding.)\n\n3. Transcription Error: \"Pneumobilia\"\n   Problem: The correct term is cholangiopneumoperitoneum, which refers to air in the biliary tree and peritoneal cavity. This error may not significantly impact the interpretation but can be confusing for those unfamiliar with this term.\n\n4. Internal Inconsistency: \"No other site of contrast extravasation identified\" and \"Active contrast extravasation into haematoma from distal left ovarian artery as described.\"\n   Problem: The statement \"No other site of contrast extravasation identified\" contradicts the subsequent finding of active contrast extravasation from the distal left ovarian artery. A more accurate report would clarify that there is active contrast extravasation only at the distal left ovarian artery remnant and no other sites were identified.\n\n5. Insertion Statement: \"Comparison is made with previous examination.\"\n   Problem: This statement does not provide any additional information or impact the interpretation of the current examination. It can be removed without affecting the report's clarity.",
         "**Radiology Report Analysis and Corrections**\n\n**Clinical Information Provided:**\n\n- **Mistake:** \"?  active haemorrhage\"\n  - **Problem:** The question mark indicates uncertainty, which is not appropriate in a clinical report. It should be stated clearly whether there is active haemorrhage or not.\n  - **Correction:** \"Active haemorrhage is present.\"\n\n**Technique:**\n\n- **Mistake:** \"unenhanced, arterial, and venous.\"\n  - **Problem:** The sequence of the CT angiogram description is correct, but it's important to ensure that the description matches the actual scan protocol. If there was a different sequence or if any part was missed, this should be noted.\n  - **Correction:** \"Unenhanced, arterial phase, and venous phase.\"\n\n**Findings:**\n\n- **Mistake:** \"Comparison is made with previous examination.\"\n  - **Problem:** This statement is correct but lacks specificity about what was compared. It should be more detailed to provide clinical context.\n  - **Correction:** \"Comparison with a previous CT mesenteric angiogram reveals interval development of an expanding pelvic haematoma.\"\n\n**Vascular:**\n\n- **Mistake:** \"No haematoma with active contrast extravasation from distal left ovarian artery.\"\n  - **Problem:** The statement is contradictory. It mentions no haematoma while also describing active contrast extravasation, which implies the presence of a haematoma.\n  - **Correction:** \"Active contrast extravasation is identified from the distal left ovarian artery, suggestive of a haematoma.\"\n\n**Extravascular:**\n\n- **Mistake:** \"Scattered pockets of moderate density fluid in the subphrenic spaces and intraperitoneally in keeping with haemoperitoneum.\"\n  - **Problem:** The description is correct but could be more specific about the nature of the fluid or any associated pathology.\n  - **Correction:** \"Scattered pockets of moderate density fluid in the subphrenic spaces and intraperitoneally are consistent with haemoperitoneum, possibly due to the active haemorrhage.\"\n\n**Conclusion:**\n\n- **Mistake:** \"Expanding pelvic haematoma with active haemorrhage at time of examination. Likely from distal right ovarian artery.\"\n  - **Problem:** The conclusion incorrectly states the source of the haemorrhage as the \"distal right ovarian artery,\" while the findings describe extravasation from the \"distal left ovarian artery.\"\n  - **Correction:** \"Expanding pelvic haematoma with active haemorrhage at time of examination. Likely from the distal left ovarian artery.\"\n\n**Overall:**\n\nThe radiology report contains several errors, primarily in consistency and accuracy of findings description and conclusion. It's crucial to ensure that all statements align with the actual imaging findings and clinical context. The corrected report should clearly state the presence of active haemorrhage, specify the source from the correct ovarian artery, and accurately describe the haematoma and associated findings.",
         "Certainly! Let's go through the report and identify any potential errors, transcription issues, internal inconsistencies, insertion statements, or translation errors.\n\n### Incorrect Words and Explanation:\n\n1. **Incorrect Phrase:**\n   - **\"No haematoma with active contrast extravasation from distal left ovarian artery.\"**\n     - **Problem:** The report mentions \"distal left ovarian artery,\" but the conclusion states that the active hemorrhage is likely from the \"distal right ovarian artery.\"\n     - **Correction Suggestion:** Change to \"No haematoma with active contrast extravasation from any of the distal ovarian arteries.\"\n\n2. **Incorrect Phrase:**\n   - **\"Expanding pelvic haematoma with active haemorrhage at time of examination.\"**\n     - **Problem:** The report states that there is an expanding pelvic hematoma, but it incorrectly identifies the source as \"distal right ovarian artery.\"\n     - **Correction Suggestion:** Change to \"Expanding pelvic haematoma with active contrast extravasation from distal left ovarian artery.\"\n\n3. **Incorrect Phrase:**\n   - **\"Urgent discussion with surgical team and/or interventional radiology would be of benefit.\"**\n     - **Problem:** The report incorrectly identifies the source of the hemorrhage as \"distal right ovarian artery.\"\n     - **Correction Suggestion:** Change to \"Urgent discussion with surgical team and/or interventional radiology regarding potential active bleeding from distal left ovarian artery is recommended.\"\n\n### Corrected Report:\n\n**Clinical Information Provided:**\n50-year-old female. Total hysterectomy yesterday. Intermittent PV bleeding. New hypotension, sweating, clammy. ?  Active haemorrhage.\n\n**Technique:**\nCT mesenteric angiogram: unenhanced, arterial, and venous.\n\n**Findings:**\nComparison is made with previous examination.\nVascular:\nNo haematoma with active contrast extravasation from any of the distal ovarian arteries.\nNo other site of contrast extravasation identified. Normal opacification of the abdominal aorta and its major branches.\nExtravascular:\nPelvic haematoma measures 11 x 16 x 13 cm, with scattered low density fluid filled areas. Active contrast extravasation into haematoma from distal left ovarian artery as described.\nScattered pockets of moderate density fluid in the subphrenic spaces and intraperitoneally in keeping with haemoperitoneum.\nScattered gas loculations in keeping with residual postoperative changes.\nPersistent intrahepatic and extrahepatic biliary dilatation with biliary stents. Pneumobilia. No focal abnormality seen in solid upper abdominal organs. Empty urinary bladder with catheter in situ.\nSigmoid diverticulosis with no active diverticulitis. Remainder of unprepared large small bowel loops are within normal limits.\nDependent changes in lung bases. Degenerative changes in thoracolumbar spine and sacroiliac joints.\n\n**Conclusion:**\nExpanding pelvic haematoma with active contrast extravasation from distal left ovarian artery at time of examination. Urgent discussion with surgical team and/or interventional radiology regarding potential active bleeding from distal left ovarian artery is recommended.\n\nThis corrected version ensures consistency in the report, addressing the identified errors related to the source of hemorrhage."
        ]
       ],
       "shape": {
        "columns": 4,
        "rows": 1
       }
      },
      "text/html": [
       "<div>\n",
       "<style scoped>\n",
       "    .dataframe tbody tr th:only-of-type {\n",
       "        vertical-align: middle;\n",
       "    }\n",
       "\n",
       "    .dataframe tbody tr th {\n",
       "        vertical-align: top;\n",
       "    }\n",
       "\n",
       "    .dataframe thead th {\n",
       "        text-align: right;\n",
       "    }\n",
       "</style>\n",
       "<table border=\"1\" class=\"dataframe\">\n",
       "  <thead>\n",
       "    <tr style=\"text-align: right;\">\n",
       "      <th></th>\n",
       "      <th>Original report</th>\n",
       "      <th>mistral:latest</th>\n",
       "      <th>falcon3:latest</th>\n",
       "      <th>qwen2.5:latest</th>\n",
       "    </tr>\n",
       "  </thead>\n",
       "  <tbody>\n",
       "    <tr>\n",
       "      <th>0</th>\n",
       "      <td>Clinical Information Provided:\\n50-year-old fe...</td>\n",
       "      <td>1. Incorrect Words: \"active haemorrhage at tim...</td>\n",
       "      <td>**Radiology Report Analysis and Corrections**\\...</td>\n",
       "      <td>Certainly! Let's go through the report and ide...</td>\n",
       "    </tr>\n",
       "  </tbody>\n",
       "</table>\n",
       "</div>"
      ],
      "text/plain": [
       "                                     Original report  \\\n",
       "0  Clinical Information Provided:\\n50-year-old fe...   \n",
       "\n",
       "                                      mistral:latest  \\\n",
       "0  1. Incorrect Words: \"active haemorrhage at tim...   \n",
       "\n",
       "                                      falcon3:latest  \\\n",
       "0  **Radiology Report Analysis and Corrections**\\...   \n",
       "\n",
       "                                      qwen2.5:latest  \n",
       "0  Certainly! Let's go through the report and ide...  "
      ]
     },
     "metadata": {},
     "output_type": "display_data"
    }
   ],
   "source": [
    "# Convert dictionary into CSV file.\n",
    "\n",
    "tempData = pd.DataFrame().from_dict(reportDict)\n",
    "\n",
    "tempData.to_csv(\"datasets/preliminary_eval_results.csv\")\n",
    "\n",
    "display(tempData)"
   ]
  }
 ],
 "metadata": {
  "kernelspec": {
   "display_name": "hons",
   "language": "python",
   "name": "python3"
  },
  "language_info": {
   "codemirror_mode": {
    "name": "ipython",
    "version": 3
   },
   "file_extension": ".py",
   "mimetype": "text/x-python",
   "name": "python",
   "nbconvert_exporter": "python",
   "pygments_lexer": "ipython3",
   "version": "3.12.10"
  }
 },
 "nbformat": 4,
 "nbformat_minor": 2
}
