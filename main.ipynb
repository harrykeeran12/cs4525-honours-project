{
 "cells": [
  {
   "cell_type": "markdown",
   "metadata": {},
   "source": [
    "# Honours Project Notebook.\n",
    "\n",
    "This notebook contains the code for my honours project. "
   ]
  },
  {
   "cell_type": "markdown",
   "metadata": {},
   "source": [
    "To run the application, `ollama` must be installed on the system. The `ollama` daemon must be run in the background using `ollama serve`. "
   ]
  },
  {
   "cell_type": "code",
   "execution_count": 1,
   "metadata": {},
   "outputs": [
    {
     "name": "stderr",
     "output_type": "stream",
     "text": [
      "[nltk_data] Downloading package punkt_tab to\n",
      "[nltk_data]     /Users/harryk/nltk_data...\n",
      "[nltk_data]   Package punkt_tab is already up-to-date!\n"
     ]
    },
    {
     "data": {
      "text/plain": [
       "True"
      ]
     },
     "execution_count": 1,
     "metadata": {},
     "output_type": "execute_result"
    }
   ],
   "source": [
    "# Dependencies:\n",
    "import ollama\n",
    "import pandas as pd\n",
    "import nltk\n",
    "import re\n",
    "from pprint import pprint\n",
    "\n",
    "nltk.download(\"punkt_tab\")"
   ]
  },
  {
   "cell_type": "code",
   "execution_count": null,
   "metadata": {},
   "outputs": [],
   "source": [
    "\n",
    "MODELSUSED = ['mistral:latest', 'falcon3:latest', 'qwen2.5:latest']\n",
    "\n",
    "modelNames = [model.get('model') for model in ollama.list().models]\n",
    "\n",
    "# Get list of models names on the system.\n",
    "\n",
    "for i in MODELSUSED:\n",
    "    if i not in modelNames:\n",
    "        raise Exception(f\"Model {i} not on system.\")\n",
    "\n",
    "\n",
    "SYSTEM = \"\"\"\n",
    "You correct and classify errors for radiology reports. The types of errors are omissions(where words are excluded from the transcription), insertion statements(any statements that have been added randomly by the\n",
    "software inside the dicta-phone used), translational errors (the incorrect transcription of a phrase) and internal inconsistencies (such as side confusions). Only report the type(s) of error found. \\n\\n\n",
    "\"\"\"\n",
    "\n",
    "EXAMPLE = \"\"\"\n",
    "Report: \n",
    "Clinical Information Provided:\n",
    "50-year-old male. fall from 7feet high when ladder gave way. Landed on back. c/o lpower rib and back pain. o/e tender BL lower limbs and flank, guarding. pneumothorax. intra-abdominal injury\n",
    ".\n",
    "Technique:\n",
    "CT chest/abdomen/pelvis with dual arterial portal venous phase enhancement.\n",
    ".\n",
    "Findings:\n",
    "Chest:\n",
    "(No) pneumothorax, haemothorax, or pulmonary contusion.\n",
    "Old left fourth rib fracture.  No acute bony injury to sternum or thoracic spine.  Wide patent bony spinal canal.\n",
    ".\n",
    "Abdomen/pelvis:\n",
    "No intra-abdominal/pelvic free gas or fluid.\n",
    "No significant abnormality seen in solid upper abdominal organs.  Normal appearance of partially filled urinary bladder.\n",
    "Colonic diverticulosis with no active diverticulitis.  Remainder of unprepared large and small bowel loops are within normal limits.\n",
    "No acute bony injury.  Degenerative changes in thoracolumbar spine and sacroiliac joints. Wide patent bony spinal canal.\n",
    ".\n",
    "Vascular:\n",
    "Normal appearance of thoracic aorta with conventional configuration of aortic arch.\n",
    "Normal appearance of abdominal aorta and its major branches.  Normal opacification of iliac vessels and visualised proximal femoral vessels.\n",
    ".\n",
    "Conclusion:\n",
    "No pneumothorax.  No intra-abdominal traumatic injury.\n",
    "\n",
    "Correction: Omission as no pneumothorax.\n",
    "The radiology report will be below.\n",
    "\"\"\"\n",
    "dataframe = pd.read_csv(\n",
    "    \"datasets/testing_data.csv\"\n",
    ")\n",
    "\n",
    "removedCorrection = dataframe[\"Removed Correction\"]\n",
    "\n",
    "correctedData = dataframe[\"Re-dictated\"]\n",
    "\n",
    "errors = dataframe[\"Type of Error\"]\n",
    "\n",
    "for i in range(len(removedCorrection)):\n",
    "    # print(removedCorrection[i])\n",
    "    # print(\"\\n\\n\")\n",
    "    if removedCorrection[i] == correctedData[i]:\n",
    "        # print(i)\n",
    "        # print(removedCorrection[i])\n",
    "        raise ValueError(\n",
    "            f\"Correction not removed properly in {i} : \\n{removedCorrection[i]}\"\n",
    "        )\n",
    "\n",
    "for i in range(len(errors)):\n",
    "    errorList = errors[i].split(\";\")\n",
    "    errorNumber = len(errorList)\n",
    "    # print(f\"{i} : {errorNumber} errors.\")\n",
    "# display(errors)"
   ]
  },
  {
   "cell_type": "code",
   "execution_count": 17,
   "metadata": {},
   "outputs": [
    {
     "data": {
      "text/html": [
       "<div>\n",
       "<style scoped>\n",
       "    .dataframe tbody tr th:only-of-type {\n",
       "        vertical-align: middle;\n",
       "    }\n",
       "\n",
       "    .dataframe tbody tr th {\n",
       "        vertical-align: top;\n",
       "    }\n",
       "\n",
       "    .dataframe thead th {\n",
       "        text-align: right;\n",
       "    }\n",
       "</style>\n",
       "<table border=\"1\" class=\"dataframe\">\n",
       "  <thead>\n",
       "    <tr style=\"text-align: right;\">\n",
       "      <th></th>\n",
       "      <th>0</th>\n",
       "    </tr>\n",
       "  </thead>\n",
       "  <tbody>\n",
       "    <tr>\n",
       "      <th>Original report</th>\n",
       "      <td>Clinical Information Provided:\\n50-year-old fe...</td>\n",
       "    </tr>\n",
       "    <tr>\n",
       "      <th>mistral:latest</th>\n",
       "      <td>1. Omission: Missing the mention of a patient ...</td>\n",
       "    </tr>\n",
       "    <tr>\n",
       "      <th>falcon3:latest</th>\n",
       "      <td>The radiology report contains several types of...</td>\n",
       "    </tr>\n",
       "    <tr>\n",
       "      <th>qwen2.5:latest</th>\n",
       "      <td>Omission  \\nInsertion Statements  \\nTranslatio...</td>\n",
       "    </tr>\n",
       "  </tbody>\n",
       "</table>\n",
       "</div>"
      ],
      "text/plain": [
       "                                                                 0\n",
       "Original report  Clinical Information Provided:\\n50-year-old fe...\n",
       "mistral:latest   1. Omission: Missing the mention of a patient ...\n",
       "falcon3:latest   The radiology report contains several types of...\n",
       "qwen2.5:latest   Omission  \\nInsertion Statements  \\nTranslatio..."
      ]
     },
     "metadata": {},
     "output_type": "display_data"
    }
   ],
   "source": [
    "# Feed each testing data into the models.\n",
    "report = removedCorrection[1]\n",
    "reportDict = {\"Original report\": report}\n",
    "for modelName in MODELSUSED:\n",
    "  # print(f\"{modelName}\")\n",
    "  generated = ollama.generate(modelName, prompt=SYSTEM + EXAMPLE + report)\n",
    "  reportDict[modelName] = generated[\"response\"]\n",
    "\n",
    "# pprint(reportDict)\n",
    "\n",
    "tempData = pd.DataFrame(reportDict.values(), index=reportDict.keys())\n",
    "\n",
    "tempData.to_csv(\"datasets/temp_data.csv\")\n",
    "\n",
    "display(tempData)"
   ]
  },
  {
   "cell_type": "code",
   "execution_count": null,
   "metadata": {},
   "outputs": [],
   "source": []
  }
 ],
 "metadata": {
  "kernelspec": {
   "display_name": "hons",
   "language": "python",
   "name": "python3"
  },
  "language_info": {
   "codemirror_mode": {
    "name": "ipython",
    "version": 3
   },
   "file_extension": ".py",
   "mimetype": "text/x-python",
   "name": "python",
   "nbconvert_exporter": "python",
   "pygments_lexer": "ipython3",
   "version": "3.12.8"
  }
 },
 "nbformat": 4,
 "nbformat_minor": 2
}
