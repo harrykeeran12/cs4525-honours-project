{
 "cells": [
  {
   "cell_type": "markdown",
   "metadata": {},
   "source": [
    "# Honours Project Notebook.\n",
    "\n",
    "This notebook contains the code for my honours project. "
   ]
  },
  {
   "cell_type": "markdown",
   "metadata": {},
   "source": [
    "To run the application, `ollama` must be installed on the system. The `ollama` daemon must be run in the background using `ollama serve`. "
   ]
  },
  {
   "cell_type": "code",
   "execution_count": 4,
   "metadata": {},
   "outputs": [
    {
     "name": "stderr",
     "output_type": "stream",
     "text": [
      "[nltk_data] Downloading package punkt_tab to\n",
      "[nltk_data]     /Users/harryk/nltk_data...\n",
      "[nltk_data]   Package punkt_tab is already up-to-date!\n"
     ]
    },
    {
     "data": {
      "text/plain": [
       "True"
      ]
     },
     "execution_count": 4,
     "metadata": {},
     "output_type": "execute_result"
    }
   ],
   "source": [
    "# Dependencies:\n",
    "import ollama\n",
    "import pandas as pd\n",
    "import nltk\n",
    "import re\n",
    "\n",
    "nltk.download(\"punkt_tab\")"
   ]
  },
  {
   "cell_type": "code",
   "execution_count": 5,
   "metadata": {},
   "outputs": [
    {
     "name": "stdout",
     "output_type": "stream",
     "text": [
      "0 : 2 errors.\n",
      "1 : 4 errors.\n",
      "2 : 4 errors.\n",
      "3 : 2 errors.\n",
      "4 : 2 errors.\n",
      "5 : 7 errors.\n",
      "6 : 4 errors.\n",
      "7 : 1 errors.\n",
      "8 : 2 errors.\n",
      "9 : 2 errors.\n",
      "10 : 1 errors.\n",
      "11 : 4 errors.\n",
      "12 : 6 errors.\n",
      "13 : 9 errors.\n",
      "14 : 5 errors.\n",
      "15 : 1 errors.\n",
      "16 : 2 errors.\n",
      "17 : 1 errors.\n",
      "18 : 3 errors.\n",
      "19 : 5 errors.\n",
      "20 : 2 errors.\n",
      "21 : 1 errors.\n",
      "22 : 2 errors.\n",
      "23 : 1 errors.\n",
      "24 : 1 errors.\n",
      "25 : 1 errors.\n"
     ]
    }
   ],
   "source": [
    "MODELNAME = \"deepseek-r1:1.5b\"\n",
    "\n",
    "SYSTEM = \"\"\"\n",
    "You help correct radiology reports. \n",
    "\"\"\"\n",
    "\n",
    "INCONSISTENCIES = \"\"\"Only point out inconsistencies in the report. Use the template below.\n",
    "\\n\\n \"\"\"\n",
    "\n",
    "INCONSISTENCY_TEMPLATE = (\n",
    "    \"\"\"\\n Inconsistency: { } \\n This does not make sense with this line: { }\"\"\"\n",
    ")\n",
    "\n",
    "dataframe = pd.read_csv(\n",
    "    \"datasets/Clinical Info, Removed Correction, Issue - Sanitied_Text & Error Type Only.csv\"\n",
    ")\n",
    "\n",
    "removedCorrection = dataframe[\"Removed Correction\"]\n",
    "\n",
    "correctedData = dataframe[\"Re-dictated\"]\n",
    "\n",
    "errors = dataframe[\"Type of Error\"]\n",
    "\n",
    "\n",
    "for i in range(len(removedCorrection)):\n",
    "    # print(removedCorrection[i])\n",
    "    # print(\"\\n\\n\")\n",
    "    if removedCorrection[i] == correctedData[i]:\n",
    "        # print(i)\n",
    "        # print(removedCorrection[i])\n",
    "        raise ValueError(\n",
    "            f\"Correction not removed properly in {i} : \\n{removedCorrection[i]}\"\n",
    "        )\n",
    "\n",
    "for i in range(len(errors)):\n",
    "    errorList = errors[i].split(\";\")\n",
    "    errorNumber = len(errorList)\n",
    "    print(f\"{i} : {errorNumber} errors.\")\n",
    "# display(errors)"
   ]
  },
  {
   "cell_type": "code",
   "execution_count": 20,
   "metadata": {},
   "outputs": [],
   "source": [
    "def generate(prompt: str = \"\") -> tuple[str, str]:\n",
    "    # Custom ollama generation function in order to split the thinking and the answer of Deepseek.\n",
    "    response: str = ollama.generate(\n",
    "        model=MODELNAME,\n",
    "        system=\"\",\n",
    "        prompt=prompt,\n",
    "        options={\"temperature\": 0},\n",
    "    )[\"response\"]\n",
    "    regex = r\"<think>(.*?)</think>\"\n",
    "    # Remove the thinking portion of the response.\n",
    "    thinking = re.findall(pattern=regex, string=response, flags=re.S | re.M)\n",
    "    # print(f\"Thinking : {thinking}\")\n",
    "    responses = re.sub(pattern=regex, repl=\"\", string=response, flags=re.S | re.M)\n",
    "    # print(responses)\n",
    "    thinking = thinking[0].strip()\n",
    "    responses = responses.strip()\n",
    "    return (thinking,responses)"
   ]
  },
  {
   "cell_type": "code",
   "execution_count": 21,
   "metadata": {},
   "outputs": [
    {
     "name": "stdout",
     "output_type": "stream",
     "text": [
      "Differences : \n",
      "+++ \n",
      "+70-year-old male (female). Fall  4 days ago with trauma to the left side of the chest/upper limb. New Hb drop 123>> 86.  Significant tenderness in the left chest wall and left iliac fossa. History of diverticulosis, no PR bleeding. Confirmed haematoma in the left arm. To check for source of bleeding in thorax/abdomen\n",
      "+No acute injury to bony cranium (pelvis).  Degenerative changes in lumbar spine and sacroiliac joints.  No suspicious bony lesion.\n"
     ]
    }
   ],
   "source": [
    "# Print differences:\n",
    "from difflib import unified_diff\n",
    "\n",
    "CURRENT_INDEX = 3\n",
    "\n",
    "diff = unified_diff(\n",
    "    removedCorrection[CURRENT_INDEX].splitlines(),\n",
    "    correctedData[CURRENT_INDEX].splitlines(),\n",
    "    lineterm=\"\",\n",
    ")\n",
    "\n",
    "print(\"Differences : \")\n",
    "for i in diff:\n",
    "    if i.startswith(\"+\"):\n",
    "        print(i)\n",
    "# print(\"\\n\".join(list(diff)))"
   ]
  },
  {
   "cell_type": "code",
   "execution_count": 22,
   "metadata": {},
   "outputs": [
    {
     "name": "stdout",
     "output_type": "stream",
     "text": [
      "Okay, so I need to figure out the inconsistencies in the report based on the provided template. Let me start by reading through both the Clinical Information Provided and the Findings sections carefully.\n",
      "\n",
      "First, looking at the Clinical Information Provided, it mentions a 70-year-old male who fell four days ago with trauma to the left side of the chest/upper limb. The patient had a significant drop in new Hgb of 123>>86, which is quite concerning because a decrease in Hgb can indicate either infection or anemia from other causes like chronic diseases.\n",
      "\n",
      "Next, there's a history of diverticulosis with no PR bleeding mentioned. Diverticulosis typically involves the small intestine and can cause blood loss if not treated properly. The patient didn't report any PR bleeding, which is a red pain in the leg, so that might be an issue because diverticulosis can lead to such symptoms.\n",
      "\n",
      "Then, there's a confirmed haematoma in the left arm. Haematoma means a blood vessel, and it's usually seen as a small blood vessel or a blockage. The findings mention a soft tissue stranding and a haematoma along the incompletely visualized lateral portion of the left upper arm. That seems plausible.\n",
      "\n",
      "In the Findings section, the report mentions checking for the source of bleeding in the thorax/abdomen. However, it doesn't provide any previous examination data to compare with, which is inconsistent because having a history of diverticulosis and a haematoma in the arm might suggest that the patient has multiple conditions that could affect blood flow.\n",
      "\n",
      "Another point is the mention of a right-sided mastectomy noted. Mastectomy refers to removing a part of the abdomen, usually for surgery, but it's not clear if this was done or if it's related to the hematemesis (blood loss) in the arm. This might be an inconsistency because the report doesn't specify whether the mastectomy was performed or how it relates to the bleeding.\n",
      "\n",
      "Additionally, the findings mention a soft tissue stranding and a haematoma seen along the lateral portion of the left upper arm. The conclusion states that there's likely splenic origin for the hematemesis, but since the patient has diverticulosis, which is in the lower abdomen, this might not be accurate.\n",
      "\n",
      "The report also notes no active extravasation on the venous phase examination, meaning no new blood vessels were formed during the check-up. However, given the presence of a haematoma and potential bleeding from diverticulosis, there could have been some extracellular fluid movement or changes in blood vessel formation.\n",
      "\n",
      "Lastly, the conclusion mentions that there's likely splenic origin for the hematemesis but doesn't specify if it's related to the diverticulosis. This might be an inconsistency because diverticulosis is more likely to cause hematemesis in the lower abdomen, not the upper arm.\n",
      "\n",
      "Putting this all together, the main inconsistencies seem to be:\n",
      "1. The report lacks previous examination data for comparison when checking for bleeding sources.\n",
      "2. There's no mention of the mastectomy performed or its relation to the findings.\n",
      "3. The conclusion incorrectly attributes the hematemesis to the splenic origin without considering the diverticulosis in the lower abdomen.\n",
      "\n",
      "I think that covers the main points where inconsistencies are evident.\n",
      "The report contains several inconsistencies based on the provided template:\n",
      "\n",
      "1. **Lack of Previous Examination Data**: The findings section does not include any previous examination results for comparison, which is inconsistent because the patient's history includes diverticulosis and a haematoma in the arm.\n",
      "\n",
      "2. **Mastectomy Information**: There is no mention of a right-sided mastectomy noted, which might be relevant if performed or related to the findings.\n",
      "\n",
      "3. **Diverticulosis Misassignment**: The conclusion incorrectly attributes hematemesis to the splenic origin without considering the presence of diverticulosis in the lower abdomen.\n",
      "\n",
      "These inconsistencies highlight areas where further examination and context are needed for a comprehensive understanding of the patient's condition.\n"
     ]
    }
   ],
   "source": [
    "tokenisedSentence = nltk.sent_tokenize(removedCorrection[CURRENT_INDEX])\n",
    "tokenisedSentence = [sentence for sentence in tokenisedSentence if len(sentence) > 1]\n",
    "\n",
    "\n",
    "PROMPT = f\"\"\"\\n\n",
    "  Find inconsistencies with this report: \\n {\"\\n\".join(tokenisedSentence)}\n",
    "\"\"\"\n",
    "\n",
    "# print(PROMPT)\n",
    "try:\n",
    "    answer: str = generate(INCONSISTENCIES + \"\\n\\n\" + PROMPT + \"\\n\\n\"+ INCONSISTENCY_TEMPLATE)\n",
    "    # Generates a response from the AI.\n",
    "    # display(responses)\n",
    "    print(answer[0])\n",
    "    print(answer[1])\n",
    "except ConnectionError as ce:\n",
    "    print(ce)\n",
    "    print(\"You can connect to Ollama using ollama serve.\")\n"
   ]
  },
  {
   "cell_type": "code",
   "execution_count": null,
   "metadata": {},
   "outputs": [],
   "source": [
    "# Use LLM for named entity recognition.\n",
    "imPhrase: str = generate(\"Isolate any important phrases about the patient. Display as a comma separated list.\" + \"\\n\".join(tokenisedSentence))\n",
    "\n",
    "# print(imPhrase[1])\n",
    "\n",
    "csvPhrases:str = generate(f\"Are there any inconsistencies between the individual phrases below? \\n {imPhrase[1]}\")\n",
    "\n",
    "print(csvPhrases[1])\n"
   ]
  }
 ],
 "metadata": {
  "kernelspec": {
   "display_name": "hons",
   "language": "python",
   "name": "python3"
  },
  "language_info": {
   "codemirror_mode": {
    "name": "ipython",
    "version": 3
   },
   "file_extension": ".py",
   "mimetype": "text/x-python",
   "name": "python",
   "nbconvert_exporter": "python",
   "pygments_lexer": "ipython3",
   "version": "3.12.8"
  }
 },
 "nbformat": 4,
 "nbformat_minor": 2
}
